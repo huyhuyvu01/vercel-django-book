{
 "cells": [
  {
   "cell_type": "code",
   "execution_count": 264,
   "id": "f1714c80-adfd-4dea-80be-f48989c58352",
   "metadata": {},
   "outputs": [],
   "source": [
    "#importing libraries\n",
    "import pandas as pd\n",
    "import sqlite3\n",
    "import numpy as np\n",
    "import datetime"
   ]
  },
  {
   "cell_type": "code",
   "execution_count": 265,
   "id": "10eaaa7d-e27e-4cc8-b693-6f14b18514f7",
   "metadata": {},
   "outputs": [],
   "source": [
    "conn1 = sqlite3.connect(\"db.sqlite3\")"
   ]
  },
  {
   "cell_type": "code",
   "execution_count": 266,
   "id": "88325f47-b424-4ad1-9f29-1e02f694f816",
   "metadata": {},
   "outputs": [
    {
     "data": {
      "text/html": [
       "<div>\n",
       "<style scoped>\n",
       "    .dataframe tbody tr th:only-of-type {\n",
       "        vertical-align: middle;\n",
       "    }\n",
       "\n",
       "    .dataframe tbody tr th {\n",
       "        vertical-align: top;\n",
       "    }\n",
       "\n",
       "    .dataframe thead th {\n",
       "        text-align: right;\n",
       "    }\n",
       "</style>\n",
       "<table border=\"1\" class=\"dataframe\">\n",
       "  <thead>\n",
       "    <tr style=\"text-align: right;\">\n",
       "      <th></th>\n",
       "      <th>foreign_id</th>\n",
       "      <th>username</th>\n",
       "    </tr>\n",
       "  </thead>\n",
       "  <tbody>\n",
       "    <tr>\n",
       "      <th>0</th>\n",
       "      <td>1</td>\n",
       "      <td>fgVo76Mo</td>\n",
       "    </tr>\n",
       "    <tr>\n",
       "      <th>1</th>\n",
       "      <td>2</td>\n",
       "      <td>tMkhisT5</td>\n",
       "    </tr>\n",
       "    <tr>\n",
       "      <th>2</th>\n",
       "      <td>3</td>\n",
       "      <td>NfdgQcnt</td>\n",
       "    </tr>\n",
       "    <tr>\n",
       "      <th>3</th>\n",
       "      <td>4</td>\n",
       "      <td>venbVB4p</td>\n",
       "    </tr>\n",
       "    <tr>\n",
       "      <th>4</th>\n",
       "      <td>5</td>\n",
       "      <td>rs3BfROl</td>\n",
       "    </tr>\n",
       "  </tbody>\n",
       "</table>\n",
       "</div>"
      ],
      "text/plain": [
       "   foreign_id  username\n",
       "0           1  fgVo76Mo\n",
       "1           2  tMkhisT5\n",
       "2           3  NfdgQcnt\n",
       "3           4  venbVB4p\n",
       "4           5  rs3BfROl"
      ]
     },
     "execution_count": 266,
     "metadata": {},
     "output_type": "execute_result"
    }
   ],
   "source": [
    "DataAdd = pd.read_csv(\"../Users.csv\")\n",
    "DataAdd.head()"
   ]
  },
  {
   "cell_type": "code",
   "execution_count": 267,
   "id": "a90c0092-b542-405d-a471-5a1b1c47a654",
   "metadata": {},
   "outputs": [
    {
     "data": {
      "text/html": [
       "<div>\n",
       "<style scoped>\n",
       "    .dataframe tbody tr th:only-of-type {\n",
       "        vertical-align: middle;\n",
       "    }\n",
       "\n",
       "    .dataframe tbody tr th {\n",
       "        vertical-align: top;\n",
       "    }\n",
       "\n",
       "    .dataframe thead th {\n",
       "        text-align: right;\n",
       "    }\n",
       "</style>\n",
       "<table border=\"1\" class=\"dataframe\">\n",
       "  <thead>\n",
       "    <tr style=\"text-align: right;\">\n",
       "      <th></th>\n",
       "      <th>id</th>\n",
       "      <th>username</th>\n",
       "    </tr>\n",
       "  </thead>\n",
       "  <tbody>\n",
       "    <tr>\n",
       "      <th>0</th>\n",
       "      <td>1</td>\n",
       "      <td>fgVo76Mo</td>\n",
       "    </tr>\n",
       "    <tr>\n",
       "      <th>1</th>\n",
       "      <td>2</td>\n",
       "      <td>tMkhisT5</td>\n",
       "    </tr>\n",
       "    <tr>\n",
       "      <th>2</th>\n",
       "      <td>3</td>\n",
       "      <td>NfdgQcnt</td>\n",
       "    </tr>\n",
       "    <tr>\n",
       "      <th>3</th>\n",
       "      <td>4</td>\n",
       "      <td>venbVB4p</td>\n",
       "    </tr>\n",
       "    <tr>\n",
       "      <th>4</th>\n",
       "      <td>5</td>\n",
       "      <td>rs3BfROl</td>\n",
       "    </tr>\n",
       "  </tbody>\n",
       "</table>\n",
       "</div>"
      ],
      "text/plain": [
       "   id  username\n",
       "0   1  fgVo76Mo\n",
       "1   2  tMkhisT5\n",
       "2   3  NfdgQcnt\n",
       "3   4  venbVB4p\n",
       "4   5  rs3BfROl"
      ]
     },
     "execution_count": 267,
     "metadata": {},
     "output_type": "execute_result"
    }
   ],
   "source": [
    "DataAdd.rename(columns = {'foreign_id':'id'},inplace=True)\n",
    "DataAdd.head()"
   ]
  },
  {
   "cell_type": "code",
   "execution_count": 268,
   "id": "cd017819-ba1f-439c-8ad9-add57c9d86e4",
   "metadata": {},
   "outputs": [
    {
     "data": {
      "text/html": [
       "<div>\n",
       "<style scoped>\n",
       "    .dataframe tbody tr th:only-of-type {\n",
       "        vertical-align: middle;\n",
       "    }\n",
       "\n",
       "    .dataframe tbody tr th {\n",
       "        vertical-align: top;\n",
       "    }\n",
       "\n",
       "    .dataframe thead th {\n",
       "        text-align: right;\n",
       "    }\n",
       "</style>\n",
       "<table border=\"1\" class=\"dataframe\">\n",
       "  <thead>\n",
       "    <tr style=\"text-align: right;\">\n",
       "      <th></th>\n",
       "      <th>username</th>\n",
       "      <th>password</th>\n",
       "      <th>is_active</th>\n",
       "      <th>is_staff</th>\n",
       "      <th>is_superuser</th>\n",
       "      <th>first_name</th>\n",
       "      <th>last_name</th>\n",
       "      <th>date_joined</th>\n",
       "    </tr>\n",
       "  </thead>\n",
       "  <tbody>\n",
       "    <tr>\n",
       "      <th>0</th>\n",
       "      <td>fgVo76Mo</td>\n",
       "      <td>pbkdf2_sha256$390000$0cPpAdrcdSrakYRxFdbzvn$Mz...</td>\n",
       "      <td>1</td>\n",
       "      <td>0</td>\n",
       "      <td>0</td>\n",
       "      <td>Hai</td>\n",
       "      <td>Nguyen</td>\n",
       "      <td>2023-04-05 01:52:47.894190</td>\n",
       "    </tr>\n",
       "    <tr>\n",
       "      <th>1</th>\n",
       "      <td>tMkhisT5</td>\n",
       "      <td>pbkdf2_sha256$390000$0cPpAdrcdSrakYRxFdbzvn$Mz...</td>\n",
       "      <td>1</td>\n",
       "      <td>0</td>\n",
       "      <td>0</td>\n",
       "      <td>Hai</td>\n",
       "      <td>Nguyen</td>\n",
       "      <td>2023-04-05 01:52:47.894190</td>\n",
       "    </tr>\n",
       "    <tr>\n",
       "      <th>2</th>\n",
       "      <td>NfdgQcnt</td>\n",
       "      <td>pbkdf2_sha256$390000$0cPpAdrcdSrakYRxFdbzvn$Mz...</td>\n",
       "      <td>1</td>\n",
       "      <td>0</td>\n",
       "      <td>0</td>\n",
       "      <td>Hai</td>\n",
       "      <td>Nguyen</td>\n",
       "      <td>2023-04-05 01:52:47.894190</td>\n",
       "    </tr>\n",
       "    <tr>\n",
       "      <th>3</th>\n",
       "      <td>venbVB4p</td>\n",
       "      <td>pbkdf2_sha256$390000$0cPpAdrcdSrakYRxFdbzvn$Mz...</td>\n",
       "      <td>1</td>\n",
       "      <td>0</td>\n",
       "      <td>0</td>\n",
       "      <td>Hai</td>\n",
       "      <td>Nguyen</td>\n",
       "      <td>2023-04-05 01:52:47.894190</td>\n",
       "    </tr>\n",
       "    <tr>\n",
       "      <th>4</th>\n",
       "      <td>rs3BfROl</td>\n",
       "      <td>pbkdf2_sha256$390000$0cPpAdrcdSrakYRxFdbzvn$Mz...</td>\n",
       "      <td>1</td>\n",
       "      <td>0</td>\n",
       "      <td>0</td>\n",
       "      <td>Hai</td>\n",
       "      <td>Nguyen</td>\n",
       "      <td>2023-04-05 01:52:47.894190</td>\n",
       "    </tr>\n",
       "  </tbody>\n",
       "</table>\n",
       "</div>"
      ],
      "text/plain": [
       "   username                                           password is_active  \\\n",
       "0  fgVo76Mo  pbkdf2_sha256$390000$0cPpAdrcdSrakYRxFdbzvn$Mz...         1   \n",
       "1  tMkhisT5  pbkdf2_sha256$390000$0cPpAdrcdSrakYRxFdbzvn$Mz...         1   \n",
       "2  NfdgQcnt  pbkdf2_sha256$390000$0cPpAdrcdSrakYRxFdbzvn$Mz...         1   \n",
       "3  venbVB4p  pbkdf2_sha256$390000$0cPpAdrcdSrakYRxFdbzvn$Mz...         1   \n",
       "4  rs3BfROl  pbkdf2_sha256$390000$0cPpAdrcdSrakYRxFdbzvn$Mz...         1   \n",
       "\n",
       "  is_staff is_superuser first_name last_name                 date_joined  \n",
       "0        0            0        Hai    Nguyen  2023-04-05 01:52:47.894190  \n",
       "1        0            0        Hai    Nguyen  2023-04-05 01:52:47.894190  \n",
       "2        0            0        Hai    Nguyen  2023-04-05 01:52:47.894190  \n",
       "3        0            0        Hai    Nguyen  2023-04-05 01:52:47.894190  \n",
       "4        0            0        Hai    Nguyen  2023-04-05 01:52:47.894190  "
      ]
     },
     "execution_count": 268,
     "metadata": {},
     "output_type": "execute_result"
    }
   ],
   "source": [
    "DataAdd[\"password\"] = \"pbkdf2_sha256$390000$0cPpAdrcdSrakYRxFdbzvn$MzMjfm3Y7TfTrYqwvDiQlR85mWYXgxTXv/f6VryS6Es=\"\n",
    "DataAdd[\"is_active\"] = \"1\"\n",
    "DataAdd[\"is_staff\"] = \"0\"\n",
    "DataAdd[\"is_superuser\"] = \"0\"\n",
    "DataAdd[\"first_name\"] = \"Hai\"\n",
    "DataAdd[\"last_name\"] = \"Nguyen\"\n",
    "DataAdd[\"date_joined\"] = str(datetime.datetime.now())\n",
    "DataAdd.drop(columns = \"id\",inplace = True)\n",
    "DataAdd.head()\n",
    "DataAdd.head()"
   ]
  },
  {
   "cell_type": "code",
   "execution_count": 269,
   "id": "ad7c05d8-d185-4fdc-b7ea-da97cc0a782a",
   "metadata": {},
   "outputs": [],
   "source": [
    "DataAdd = DataAdd.to_records(index=False)\n",
    "DataAdd = list(DataAdd)"
   ]
  },
  {
   "cell_type": "code",
   "execution_count": 270,
   "id": "ccba4759-59a6-452d-967f-5c56c53dc8a4",
   "metadata": {},
   "outputs": [
    {
     "name": "stdout",
     "output_type": "stream",
     "text": [
      "Total 278858 Records inserted successfully into SqliteDb_developers table\n"
     ]
    }
   ],
   "source": [
    "cursor = conn1.cursor()\n",
    "sqlite_insert_with_param = \"\"\"INSERT INTO users_customuser\n",
    "                          (username, password, is_active, is_staff, is_superuser, first_name, last_name, date_joined) \n",
    "                          VALUES (?, ?, ?, ?, ?, ?, ?, ?);\"\"\"\n",
    "cursor.executemany(sqlite_insert_with_param, DataAdd)\n",
    "conn1.commit()\n",
    "print(\"Total\", cursor.rowcount, \"Records inserted successfully into SqliteDb_developers table\")\n",
    "conn1.commit()\n",
    "cursor.close()"
   ]
  },
  {
   "cell_type": "markdown",
   "id": "f780be0e-9758-42ba-a4fe-50a3438fa811",
   "metadata": {},
   "source": [
    "# Book"
   ]
  },
  {
   "cell_type": "code",
   "execution_count": 271,
   "id": "cacb09ac-38f3-4eae-86b7-143efd38b28d",
   "metadata": {},
   "outputs": [],
   "source": [
    "import re"
   ]
  },
  {
   "cell_type": "code",
   "execution_count": 272,
   "id": "859821c4-eb65-4cb9-b8e9-8b4e786502a0",
   "metadata": {},
   "outputs": [],
   "source": [
    "conn1 = sqlite3.connect(\"db.sqlite3\")"
   ]
  },
  {
   "cell_type": "code",
   "execution_count": 273,
   "id": "5ab6c6df-8e19-452f-86cc-1807e21cd8b6",
   "metadata": {},
   "outputs": [
    {
     "name": "stderr",
     "output_type": "stream",
     "text": [
      "C:\\Users\\mamto\\AppData\\Local\\Temp\\ipykernel_18832\\1826252766.py:1: DtypeWarning: Columns (3) have mixed types. Specify dtype option on import or set low_memory=False.\n",
      "  DataAdd = pd.read_csv(\"../Books.csv\")\n"
     ]
    },
    {
     "data": {
      "text/html": [
       "<div>\n",
       "<style scoped>\n",
       "    .dataframe tbody tr th:only-of-type {\n",
       "        vertical-align: middle;\n",
       "    }\n",
       "\n",
       "    .dataframe tbody tr th {\n",
       "        vertical-align: top;\n",
       "    }\n",
       "\n",
       "    .dataframe thead th {\n",
       "        text-align: right;\n",
       "    }\n",
       "</style>\n",
       "<table border=\"1\" class=\"dataframe\">\n",
       "  <thead>\n",
       "    <tr style=\"text-align: right;\">\n",
       "      <th></th>\n",
       "      <th>ISBN</th>\n",
       "      <th>Book-Title</th>\n",
       "      <th>Book-Author</th>\n",
       "      <th>Year-Of-Publication</th>\n",
       "      <th>Publisher</th>\n",
       "      <th>Image-URL-S</th>\n",
       "      <th>Image-URL-M</th>\n",
       "      <th>Image-URL-L</th>\n",
       "    </tr>\n",
       "  </thead>\n",
       "  <tbody>\n",
       "    <tr>\n",
       "      <th>0</th>\n",
       "      <td>0195153448</td>\n",
       "      <td>Classical Mythology</td>\n",
       "      <td>Mark P. O. Morford</td>\n",
       "      <td>2002</td>\n",
       "      <td>Oxford University Press</td>\n",
       "      <td>http://images.amazon.com/images/P/0195153448.0...</td>\n",
       "      <td>http://images.amazon.com/images/P/0195153448.0...</td>\n",
       "      <td>http://images.amazon.com/images/P/0195153448.0...</td>\n",
       "    </tr>\n",
       "    <tr>\n",
       "      <th>1</th>\n",
       "      <td>0002005018</td>\n",
       "      <td>Clara Callan</td>\n",
       "      <td>Richard Bruce Wright</td>\n",
       "      <td>2001</td>\n",
       "      <td>HarperFlamingo Canada</td>\n",
       "      <td>http://images.amazon.com/images/P/0002005018.0...</td>\n",
       "      <td>http://images.amazon.com/images/P/0002005018.0...</td>\n",
       "      <td>http://images.amazon.com/images/P/0002005018.0...</td>\n",
       "    </tr>\n",
       "    <tr>\n",
       "      <th>2</th>\n",
       "      <td>0060973129</td>\n",
       "      <td>Decision in Normandy</td>\n",
       "      <td>Carlo D'Este</td>\n",
       "      <td>1991</td>\n",
       "      <td>HarperPerennial</td>\n",
       "      <td>http://images.amazon.com/images/P/0060973129.0...</td>\n",
       "      <td>http://images.amazon.com/images/P/0060973129.0...</td>\n",
       "      <td>http://images.amazon.com/images/P/0060973129.0...</td>\n",
       "    </tr>\n",
       "    <tr>\n",
       "      <th>3</th>\n",
       "      <td>0374157065</td>\n",
       "      <td>Flu: The Story of the Great Influenza Pandemic...</td>\n",
       "      <td>Gina Bari Kolata</td>\n",
       "      <td>1999</td>\n",
       "      <td>Farrar Straus Giroux</td>\n",
       "      <td>http://images.amazon.com/images/P/0374157065.0...</td>\n",
       "      <td>http://images.amazon.com/images/P/0374157065.0...</td>\n",
       "      <td>http://images.amazon.com/images/P/0374157065.0...</td>\n",
       "    </tr>\n",
       "    <tr>\n",
       "      <th>4</th>\n",
       "      <td>0393045218</td>\n",
       "      <td>The Mummies of Urumchi</td>\n",
       "      <td>E. J. W. Barber</td>\n",
       "      <td>1999</td>\n",
       "      <td>W. W. Norton &amp;amp; Company</td>\n",
       "      <td>http://images.amazon.com/images/P/0393045218.0...</td>\n",
       "      <td>http://images.amazon.com/images/P/0393045218.0...</td>\n",
       "      <td>http://images.amazon.com/images/P/0393045218.0...</td>\n",
       "    </tr>\n",
       "  </tbody>\n",
       "</table>\n",
       "</div>"
      ],
      "text/plain": [
       "         ISBN                                         Book-Title  \\\n",
       "0  0195153448                                Classical Mythology   \n",
       "1  0002005018                                       Clara Callan   \n",
       "2  0060973129                               Decision in Normandy   \n",
       "3  0374157065  Flu: The Story of the Great Influenza Pandemic...   \n",
       "4  0393045218                             The Mummies of Urumchi   \n",
       "\n",
       "            Book-Author Year-Of-Publication                   Publisher  \\\n",
       "0    Mark P. O. Morford                2002     Oxford University Press   \n",
       "1  Richard Bruce Wright                2001       HarperFlamingo Canada   \n",
       "2          Carlo D'Este                1991             HarperPerennial   \n",
       "3      Gina Bari Kolata                1999        Farrar Straus Giroux   \n",
       "4       E. J. W. Barber                1999  W. W. Norton &amp; Company   \n",
       "\n",
       "                                         Image-URL-S  \\\n",
       "0  http://images.amazon.com/images/P/0195153448.0...   \n",
       "1  http://images.amazon.com/images/P/0002005018.0...   \n",
       "2  http://images.amazon.com/images/P/0060973129.0...   \n",
       "3  http://images.amazon.com/images/P/0374157065.0...   \n",
       "4  http://images.amazon.com/images/P/0393045218.0...   \n",
       "\n",
       "                                         Image-URL-M  \\\n",
       "0  http://images.amazon.com/images/P/0195153448.0...   \n",
       "1  http://images.amazon.com/images/P/0002005018.0...   \n",
       "2  http://images.amazon.com/images/P/0060973129.0...   \n",
       "3  http://images.amazon.com/images/P/0374157065.0...   \n",
       "4  http://images.amazon.com/images/P/0393045218.0...   \n",
       "\n",
       "                                         Image-URL-L  \n",
       "0  http://images.amazon.com/images/P/0195153448.0...  \n",
       "1  http://images.amazon.com/images/P/0002005018.0...  \n",
       "2  http://images.amazon.com/images/P/0060973129.0...  \n",
       "3  http://images.amazon.com/images/P/0374157065.0...  \n",
       "4  http://images.amazon.com/images/P/0393045218.0...  "
      ]
     },
     "execution_count": 273,
     "metadata": {},
     "output_type": "execute_result"
    }
   ],
   "source": [
    "DataAdd = pd.read_csv(\"../Books.csv\")\n",
    "DataAdd.head()"
   ]
  },
  {
   "cell_type": "code",
   "execution_count": 274,
   "id": "be36c7bb-eb39-4bc3-a29d-8a1e2f639348",
   "metadata": {},
   "outputs": [],
   "source": [
    "DataAdd['book_slug']=  DataAdd['Book-Title'].map(lambda value: re.sub('\\W+','',value))\n",
    "#DataAdd[\"id\"] = range(1, len(DataAdd)+1)"
   ]
  },
  {
   "cell_type": "code",
   "execution_count": 275,
   "id": "b89eef31-5a2b-4ae2-99c4-acab6322d1f1",
   "metadata": {},
   "outputs": [
    {
     "data": {
      "text/html": [
       "<div>\n",
       "<style scoped>\n",
       "    .dataframe tbody tr th:only-of-type {\n",
       "        vertical-align: middle;\n",
       "    }\n",
       "\n",
       "    .dataframe tbody tr th {\n",
       "        vertical-align: top;\n",
       "    }\n",
       "\n",
       "    .dataframe thead th {\n",
       "        text-align: right;\n",
       "    }\n",
       "</style>\n",
       "<table border=\"1\" class=\"dataframe\">\n",
       "  <thead>\n",
       "    <tr style=\"text-align: right;\">\n",
       "      <th></th>\n",
       "      <th>User-ID</th>\n",
       "      <th>ISBN</th>\n",
       "      <th>total_rating</th>\n",
       "    </tr>\n",
       "  </thead>\n",
       "  <tbody>\n",
       "    <tr>\n",
       "      <th>0</th>\n",
       "      <td>276747</td>\n",
       "      <td>0060517794</td>\n",
       "      <td>9</td>\n",
       "    </tr>\n",
       "    <tr>\n",
       "      <th>1</th>\n",
       "      <td>276747</td>\n",
       "      <td>0679776818</td>\n",
       "      <td>8</td>\n",
       "    </tr>\n",
       "    <tr>\n",
       "      <th>2</th>\n",
       "      <td>276788</td>\n",
       "      <td>0345443683</td>\n",
       "      <td>8</td>\n",
       "    </tr>\n",
       "    <tr>\n",
       "      <th>3</th>\n",
       "      <td>276788</td>\n",
       "      <td>043935806X</td>\n",
       "      <td>7</td>\n",
       "    </tr>\n",
       "    <tr>\n",
       "      <th>4</th>\n",
       "      <td>276822</td>\n",
       "      <td>0060096195</td>\n",
       "      <td>10</td>\n",
       "    </tr>\n",
       "  </tbody>\n",
       "</table>\n",
       "</div>"
      ],
      "text/plain": [
       "   User-ID        ISBN  total_rating\n",
       "0   276747  0060517794             9\n",
       "1   276747  0679776818             8\n",
       "2   276788  0345443683             8\n",
       "3   276788  043935806X             7\n",
       "4   276822  0060096195            10"
      ]
     },
     "execution_count": 275,
     "metadata": {},
     "output_type": "execute_result"
    }
   ],
   "source": [
    "hairbd = pd.read_csv('BX-Book-Ratings-Subset.csv',sep=';')\n",
    "hairbd.rename(columns={'Book-Rating':'total_rating'},inplace=True)\n",
    "hairbd.head()"
   ]
  },
  {
   "cell_type": "code",
   "execution_count": 276,
   "id": "e48fb0c4-4b73-4fdf-8c8c-02c98188a489",
   "metadata": {},
   "outputs": [
    {
     "name": "stdout",
     "output_type": "stream",
     "text": [
      "(2178, 3)\n"
     ]
    },
    {
     "data": {
      "text/html": [
       "<div>\n",
       "<style scoped>\n",
       "    .dataframe tbody tr th:only-of-type {\n",
       "        vertical-align: middle;\n",
       "    }\n",
       "\n",
       "    .dataframe tbody tr th {\n",
       "        vertical-align: top;\n",
       "    }\n",
       "\n",
       "    .dataframe thead th {\n",
       "        text-align: right;\n",
       "    }\n",
       "</style>\n",
       "<table border=\"1\" class=\"dataframe\">\n",
       "  <thead>\n",
       "    <tr style=\"text-align: right;\">\n",
       "      <th></th>\n",
       "      <th>ISBN</th>\n",
       "      <th>total_rating</th>\n",
       "    </tr>\n",
       "  </thead>\n",
       "  <tbody>\n",
       "    <tr>\n",
       "      <th>0</th>\n",
       "      <td>0000913154</td>\n",
       "      <td>Null</td>\n",
       "    </tr>\n",
       "    <tr>\n",
       "      <th>1</th>\n",
       "      <td>0001010565</td>\n",
       "      <td>Null</td>\n",
       "    </tr>\n",
       "    <tr>\n",
       "      <th>2</th>\n",
       "      <td>0001046438</td>\n",
       "      <td>Null</td>\n",
       "    </tr>\n",
       "    <tr>\n",
       "      <th>3</th>\n",
       "      <td>0001046713</td>\n",
       "      <td>Null</td>\n",
       "    </tr>\n",
       "    <tr>\n",
       "      <th>4</th>\n",
       "      <td>000104687X</td>\n",
       "      <td>Null</td>\n",
       "    </tr>\n",
       "  </tbody>\n",
       "</table>\n",
       "</div>"
      ],
      "text/plain": [
       "         ISBN total_rating\n",
       "0  0000913154         Null\n",
       "1  0001010565         Null\n",
       "2  0001046438         Null\n",
       "3  0001046713         Null\n",
       "4  000104687X         Null"
      ]
     },
     "metadata": {},
     "output_type": "display_data"
    }
   ],
   "source": [
    "hairbd = hairbd.groupby(\"ISBN\",as_index=False).mean()\n",
    "print(hairbd.shape)\n",
    "hairbd.drop(columns='User-ID',inplace=True)\n",
    "\n",
    "display(NewRatingGroup.head())"
   ]
  },
  {
   "cell_type": "code",
   "execution_count": 277,
   "id": "60fb654b-df6b-44d4-a89e-0460c422854d",
   "metadata": {},
   "outputs": [
    {
     "name": "stdout",
     "output_type": "stream",
     "text": [
      "(2178, 2)\n"
     ]
    }
   ],
   "source": [
    "hairbd = hairbd.drop_duplicates(subset=\"ISBN\")\n",
    "print(hairbd.shape)"
   ]
  },
  {
   "cell_type": "code",
   "execution_count": 278,
   "id": "1d0b8743-c81b-4102-ab54-11cbffd2b4bf",
   "metadata": {},
   "outputs": [
    {
     "name": "stdout",
     "output_type": "stream",
     "text": [
      "271360\n"
     ]
    }
   ],
   "source": [
    "HaibdJoin = DataAdd.merge(hairbd,on=['ISBN'],how='left')\n",
    "HaibdJoin = HaibdJoin.drop_duplicates(subset=\"ISBN\")\n",
    "HaibdJoin.head()\n",
    "print(len(HaibdJoin))"
   ]
  },
  {
   "cell_type": "code",
   "execution_count": 279,
   "id": "51cd3780-a257-4524-a278-8436f6d34f44",
   "metadata": {},
   "outputs": [],
   "source": [
    "HaibdJoin.fillna('Null', inplace=True)"
   ]
  },
  {
   "cell_type": "code",
   "execution_count": 280,
   "id": "5d537580-9a54-45c6-907d-0885c3f238b8",
   "metadata": {},
   "outputs": [
    {
     "name": "stdout",
     "output_type": "stream",
     "text": [
      "<class 'pandas.core.frame.DataFrame'>\n",
      "Int64Index: 271360 entries, 0 to 271359\n",
      "Data columns (total 10 columns):\n",
      " #   Column               Non-Null Count   Dtype \n",
      "---  ------               --------------   ----- \n",
      " 0   ISBN                 271360 non-null  object\n",
      " 1   Book-Title           271360 non-null  object\n",
      " 2   Book-Author          271360 non-null  object\n",
      " 3   Year-Of-Publication  271360 non-null  object\n",
      " 4   Publisher            271360 non-null  object\n",
      " 5   Image-URL-S          271360 non-null  object\n",
      " 6   Image-URL-M          271360 non-null  object\n",
      " 7   Image-URL-L          271360 non-null  object\n",
      " 8   book_slug            271360 non-null  object\n",
      " 9   total_rating         271360 non-null  object\n",
      "dtypes: object(10)\n",
      "memory usage: 22.8+ MB\n"
     ]
    }
   ],
   "source": [
    "HaibdJoin.info()"
   ]
  },
  {
   "cell_type": "code",
   "execution_count": 281,
   "id": "cdcd448b-308a-4a43-a788-0977e5536d88",
   "metadata": {},
   "outputs": [],
   "source": [
    "HaibdJoin = HaibdJoin.to_records(index=False)\n",
    "HaibdJoin = list(HaibdJoin)"
   ]
  },
  {
   "cell_type": "code",
   "execution_count": 282,
   "id": "052bdb51-4b2c-4058-8279-f7ce54a7ba90",
   "metadata": {},
   "outputs": [
    {
     "data": {
      "text/plain": [
       "271360"
      ]
     },
     "execution_count": 282,
     "metadata": {},
     "output_type": "execute_result"
    }
   ],
   "source": [
    "len(HaibdJoin)"
   ]
  },
  {
   "cell_type": "code",
   "execution_count": 283,
   "id": "62a63c52-5ca6-4ec7-92c3-21b921de744a",
   "metadata": {},
   "outputs": [
    {
     "name": "stdout",
     "output_type": "stream",
     "text": [
      "('0195153448', 'Classical Mythology', 'Mark P. O. Morford', 2002, 'Oxford University Press', 'http://images.amazon.com/images/P/0195153448.01.THUMBZZZ.jpg', 'http://images.amazon.com/images/P/0195153448.01.MZZZZZZZ.jpg', 'http://images.amazon.com/images/P/0195153448.01.LZZZZZZZ.jpg', 'ClassicalMythology', 'Null')\n",
      "('0002005018', 'Clara Callan', 'Richard Bruce Wright', 2001, 'HarperFlamingo Canada', 'http://images.amazon.com/images/P/0002005018.01.THUMBZZZ.jpg', 'http://images.amazon.com/images/P/0002005018.01.MZZZZZZZ.jpg', 'http://images.amazon.com/images/P/0002005018.01.LZZZZZZZ.jpg', 'ClaraCallan', 'Null')\n",
      "('0060973129', 'Decision in Normandy', \"Carlo D'Este\", 1991, 'HarperPerennial', 'http://images.amazon.com/images/P/0060973129.01.THUMBZZZ.jpg', 'http://images.amazon.com/images/P/0060973129.01.MZZZZZZZ.jpg', 'http://images.amazon.com/images/P/0060973129.01.LZZZZZZZ.jpg', 'DecisioninNormandy', 'Null')\n",
      "('0374157065', 'Flu: The Story of the Great Influenza Pandemic of 1918 and the Search for the Virus That Caused It', 'Gina Bari Kolata', 1999, 'Farrar Straus Giroux', 'http://images.amazon.com/images/P/0374157065.01.THUMBZZZ.jpg', 'http://images.amazon.com/images/P/0374157065.01.MZZZZZZZ.jpg', 'http://images.amazon.com/images/P/0374157065.01.LZZZZZZZ.jpg', 'FluTheStoryoftheGreatInfluenzaPandemicof1918andtheSearchfortheVirusThatCausedIt', 'Null')\n"
     ]
    }
   ],
   "source": [
    "for i in range(4):\n",
    "    print(HaibdJoin[i])"
   ]
  },
  {
   "cell_type": "code",
   "execution_count": 284,
   "id": "211c1259-bcc6-4b38-8956-0ed08499bde6",
   "metadata": {},
   "outputs": [
    {
     "name": "stdout",
     "output_type": "stream",
     "text": [
      "Total 271360 Records inserted successfully into SqliteDb_developers table\n"
     ]
    }
   ],
   "source": [
    "cursor = conn1.cursor()\n",
    "sqlite_insert_with_param = \"\"\"INSERT INTO main_app_books \n",
    "                            (ISBN, title, author, year_of_publication, publisher, img_s, img_m, img_l, book_slug, total_rating) \n",
    "                            VALUES (?, ?, ?, ?, ?, ?, ?, ?, ?, ?);\"\"\"\n",
    "cursor.executemany(sqlite_insert_with_param, HaibdJoin)\n",
    "conn1.commit()\n",
    "print(\"Total\", cursor.rowcount, \"Records inserted successfully into SqliteDb_developers table\")\n",
    "conn1.commit()\n",
    "cursor.close()"
   ]
  },
  {
   "cell_type": "code",
   "execution_count": 285,
   "id": "aa82df45-591b-4b65-ade7-d0cbaf7cadcb",
   "metadata": {},
   "outputs": [
    {
     "ename": "IntegrityError",
     "evalue": "UNIQUE constraint failed: main_app_books.ISBN",
     "output_type": "error",
     "traceback": [
      "\u001b[1;31m---------------------------------------------------------------------------\u001b[0m",
      "\u001b[1;31mIntegrityError\u001b[0m                            Traceback (most recent call last)",
      "\u001b[1;32m~\\AppData\\Local\\Temp\\ipykernel_18832\\2574016018.py\u001b[0m in \u001b[0;36m<module>\u001b[1;34m\u001b[0m\n\u001b[0;32m      3\u001b[0m \u001b[0mcursor\u001b[0m \u001b[1;33m=\u001b[0m \u001b[0mconn1\u001b[0m\u001b[1;33m.\u001b[0m\u001b[0mcursor\u001b[0m\u001b[1;33m(\u001b[0m\u001b[1;33m)\u001b[0m\u001b[1;33m\u001b[0m\u001b[1;33m\u001b[0m\u001b[0m\n\u001b[0;32m      4\u001b[0m \u001b[0msqlite_insert_with_param\u001b[0m \u001b[1;33m=\u001b[0m \u001b[1;34m\"\"\"INSERT INTO main_app_books (ISBN, title, author, year_of_publication, publisher, img_s, img_m, img_l, book_slug, total_rating)   VALUES (?, ?, ?, ?, ?, ?, ?, ?, ?, ?);\"\"\"\u001b[0m\u001b[1;33m\u001b[0m\u001b[1;33m\u001b[0m\u001b[0m\n\u001b[1;32m----> 5\u001b[1;33m \u001b[0mcursor\u001b[0m\u001b[1;33m.\u001b[0m\u001b[0mexecute\u001b[0m\u001b[1;33m(\u001b[0m\u001b[0msqlite_insert_with_param\u001b[0m\u001b[1;33m,\u001b[0m \u001b[0mTestPharse\u001b[0m\u001b[1;33m)\u001b[0m\u001b[1;33m\u001b[0m\u001b[1;33m\u001b[0m\u001b[0m\n\u001b[0m\u001b[0;32m      6\u001b[0m \u001b[0mconn1\u001b[0m\u001b[1;33m.\u001b[0m\u001b[0mcommit\u001b[0m\u001b[1;33m(\u001b[0m\u001b[1;33m)\u001b[0m\u001b[1;33m\u001b[0m\u001b[1;33m\u001b[0m\u001b[0m\n\u001b[0;32m      7\u001b[0m \u001b[0mprint\u001b[0m\u001b[1;33m(\u001b[0m\u001b[1;34m\"Total\"\u001b[0m\u001b[1;33m,\u001b[0m \u001b[0mcursor\u001b[0m\u001b[1;33m.\u001b[0m\u001b[0mrowcount\u001b[0m\u001b[1;33m,\u001b[0m \u001b[1;34m\"Records inserted successfully into SqliteDb_developers table\"\u001b[0m\u001b[1;33m)\u001b[0m\u001b[1;33m\u001b[0m\u001b[1;33m\u001b[0m\u001b[0m\n",
      "\u001b[1;31mIntegrityError\u001b[0m: UNIQUE constraint failed: main_app_books.ISBN"
     ]
    }
   ],
   "source": [
    "#print(HaibdJoin[0])\n",
    "# TestPharse = ('006008667X', 'Lily Dale : The True Story of the Town that Talks to the Dead', 'Christine Wicker', 2004, 'HarperSanFrancisco', 'http://images.amazon.com/images/P/006008667X.01.THUMBZZZ.jpg', 'http://images.amazon.com/images/P/006008667X.01.MZZZZZZZ.jpg', 'http://images.amazon.com/images/P/006008667X.01.LZZZZZZZ.jpg', 'NULL', '')\n",
    "# cursor = conn1.cursor()\n",
    "# sqlite_insert_with_param = \"\"\"INSERT INTO main_app_books (ISBN, title, author, year_of_publication, publisher, img_s, img_m, img_l, book_slug, total_rating)   VALUES (?, ?, ?, ?, ?, ?, ?, ?, ?, ?);\"\"\"\n",
    "# cursor.execute(sqlite_insert_with_param, TestPharse)\n",
    "# conn1.commit()\n",
    "# print(\"Total\", cursor.rowcount, \"Records inserted successfully into SqliteDb_developers table\")\n",
    "# conn1.commit()\n",
    "# cursor.close()"
   ]
  },
  {
   "cell_type": "code",
   "execution_count": 286,
   "id": "0a0c1f75-6a11-401f-8d8a-7d954662636a",
   "metadata": {},
   "outputs": [],
   "source": [
    "conn1.close()"
   ]
  },
  {
   "cell_type": "markdown",
   "id": "01af6950-fc2f-4fec-8cba-59a9203c59a7",
   "metadata": {},
   "source": [
    "# rating"
   ]
  },
  {
   "cell_type": "code",
   "execution_count": 297,
   "id": "898c9b47-e1cf-4580-935e-bb1745197512",
   "metadata": {},
   "outputs": [],
   "source": [
    "conn1 = sqlite3.connect(\"db.sqlite3\")"
   ]
  },
  {
   "cell_type": "code",
   "execution_count": 300,
   "id": "e56efa85-61b2-4401-842d-9cdb137f7535",
   "metadata": {},
   "outputs": [
    {
     "name": "stdout",
     "output_type": "stream",
     "text": [
      "1149780\n",
      "<class 'pandas.core.frame.DataFrame'>\n",
      "RangeIndex: 1149780 entries, 0 to 1149779\n",
      "Data columns (total 3 columns):\n",
      " #   Column       Non-Null Count    Dtype \n",
      "---  ------       --------------    ----- \n",
      " 0   User-ID      1149780 non-null  object\n",
      " 1   ISBN         1149780 non-null  object\n",
      " 2   Book-Rating  1149780 non-null  object\n",
      "dtypes: object(3)\n",
      "memory usage: 26.3+ MB\n",
      "None\n"
     ]
    },
    {
     "data": {
      "text/html": [
       "<div>\n",
       "<style scoped>\n",
       "    .dataframe tbody tr th:only-of-type {\n",
       "        vertical-align: middle;\n",
       "    }\n",
       "\n",
       "    .dataframe tbody tr th {\n",
       "        vertical-align: top;\n",
       "    }\n",
       "\n",
       "    .dataframe thead th {\n",
       "        text-align: right;\n",
       "    }\n",
       "</style>\n",
       "<table border=\"1\" class=\"dataframe\">\n",
       "  <thead>\n",
       "    <tr style=\"text-align: right;\">\n",
       "      <th></th>\n",
       "      <th>User-ID</th>\n",
       "      <th>ISBN</th>\n",
       "      <th>Book-Rating</th>\n",
       "    </tr>\n",
       "  </thead>\n",
       "  <tbody>\n",
       "    <tr>\n",
       "      <th>0</th>\n",
       "      <td>276725</td>\n",
       "      <td>034545104X</td>\n",
       "      <td>0</td>\n",
       "    </tr>\n",
       "    <tr>\n",
       "      <th>1</th>\n",
       "      <td>276726</td>\n",
       "      <td>0155061224</td>\n",
       "      <td>5</td>\n",
       "    </tr>\n",
       "    <tr>\n",
       "      <th>2</th>\n",
       "      <td>276727</td>\n",
       "      <td>0446520802</td>\n",
       "      <td>0</td>\n",
       "    </tr>\n",
       "    <tr>\n",
       "      <th>3</th>\n",
       "      <td>276729</td>\n",
       "      <td>052165615X</td>\n",
       "      <td>3</td>\n",
       "    </tr>\n",
       "    <tr>\n",
       "      <th>4</th>\n",
       "      <td>276729</td>\n",
       "      <td>0521795028</td>\n",
       "      <td>6</td>\n",
       "    </tr>\n",
       "  </tbody>\n",
       "</table>\n",
       "</div>"
      ],
      "text/plain": [
       "  User-ID        ISBN Book-Rating\n",
       "0  276725  034545104X           0\n",
       "1  276726  0155061224           5\n",
       "2  276727  0446520802           0\n",
       "3  276729  052165615X           3\n",
       "4  276729  0521795028           6"
      ]
     },
     "execution_count": 300,
     "metadata": {},
     "output_type": "execute_result"
    }
   ],
   "source": [
    "DataAdd = pd.read_csv(\"BX-Book-Ratings.csv\",sep=';',encoding='latin-1')\n",
    "print(len(DataAdd))\n",
    "DataAdd = DataAdd.astype(str)\n",
    "print(DataAdd.info())\n",
    "DataAdd.head()"
   ]
  },
  {
   "cell_type": "code",
   "execution_count": 301,
   "id": "40de343f-2910-4337-be65-3a4abc4ee218",
   "metadata": {},
   "outputs": [
    {
     "name": "stdout",
     "output_type": "stream",
     "text": [
      "('276725', '034545104X', '0')\n",
      "('276726', '0155061224', '5')\n",
      "('276727', '0446520802', '0')\n",
      "('276729', '052165615X', '3')\n"
     ]
    }
   ],
   "source": [
    "DataAdd = DataAdd.to_records(index=False)\n",
    "DataAdd = list(DataAdd)\n",
    "for i in range(4):\n",
    "    print(DataAdd[i])"
   ]
  },
  {
   "cell_type": "code",
   "execution_count": 304,
   "id": "4bc9eecb-726a-47af-95d6-0870183645c0",
   "metadata": {},
   "outputs": [
    {
     "name": "stdout",
     "output_type": "stream",
     "text": [
      "Total 1149780 Records inserted successfully into SqliteDb_developers table\n"
     ]
    }
   ],
   "source": [
    "cursor = conn1.cursor()\n",
    "sqlite_insert_with_param = \"\"\"INSERT INTO main_app_ratings\n",
    "                            (user_id, ISBN, rating) \n",
    "                            VALUES (?, ?, ?);\"\"\"\n",
    "cursor.executemany(sqlite_insert_with_param, DataAdd)\n",
    "conn1.commit()\n",
    "print(\"Total\", cursor.rowcount, \"Records inserted successfully into SqliteDb_developers table\")\n",
    "conn1.commit()\n",
    "cursor.close()"
   ]
  },
  {
   "cell_type": "code",
   "execution_count": 303,
   "id": "cbc09f76-2e2c-4e84-9732-d631a74421c3",
   "metadata": {},
   "outputs": [
    {
     "name": "stdout",
     "output_type": "stream",
     "text": [
      "Total 1149780 Records inserted successfully into SqliteDb_developers table\n"
     ]
    }
   ],
   "source": [
    "# cursor = conn1.cursor()\n",
    "# sqlite_insert_with_param = \"\"\"DELETE FROM main_app_ratings\"\"\"\n",
    "# cursor.execute(sqlite_insert_with_param)\n",
    "# conn1.commit()\n",
    "# print(\"Total\", cursor.rowcount, \"Records inserted successfully into SqliteDb_developers table\")\n",
    "# conn1.commit()\n",
    "# cursor.close()"
   ]
  },
  {
   "cell_type": "code",
   "execution_count": 305,
   "id": "fce92b95-41a8-43f9-b6fb-a67821983358",
   "metadata": {},
   "outputs": [],
   "source": [
    "conn1.close()"
   ]
  },
  {
   "cell_type": "code",
   "execution_count": null,
   "id": "1e13da97-f0d0-415f-86a7-c9b66346b54a",
   "metadata": {},
   "outputs": [],
   "source": []
  }
 ],
 "metadata": {
  "kernelspec": {
   "display_name": "Python 3 (ipykernel)",
   "language": "python",
   "name": "python3"
  },
  "language_info": {
   "codemirror_mode": {
    "name": "ipython",
    "version": 3
   },
   "file_extension": ".py",
   "mimetype": "text/x-python",
   "name": "python",
   "nbconvert_exporter": "python",
   "pygments_lexer": "ipython3",
   "version": "3.9.13"
  }
 },
 "nbformat": 4,
 "nbformat_minor": 5
}
